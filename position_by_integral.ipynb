{
 "cells": [
  {
   "cell_type": "code",
   "execution_count": 1,
   "metadata": {},
   "outputs": [],
   "source": [
    "import pandas as pd\n",
    "import numpy as np\n",
    "import matplotlib.pyplot as plt\n",
    "from mpl_toolkits.mplot3d import Axes3D\n",
    "%matplotlib inline"
   ]
  },
  {
   "cell_type": "code",
   "execution_count": 2,
   "metadata": {},
   "outputs": [],
   "source": [
    "def first_integrate(dt, acce, mean):\n",
    "    \"\"\"\n",
    "    Returns a velocity by integrating the acceleration\n",
    "    \"\"\"\n",
    "    v = [0]\n",
    "    for i in range(1, acce.shape[0]):\n",
    "        \n",
    "        a = v[i-1] + (acce[i-1] + acce[i] - 2*mean)*(dt[i]-dt[i-1])*(1/2)\n",
    "        v.append(a)\n",
    "    \n",
    "    return np.array(v)"
   ]
  },
  {
   "cell_type": "code",
   "execution_count": 3,
   "metadata": {},
   "outputs": [],
   "source": [
    "def second_integrate(dt, vel):\n",
    "    \"\"\"\n",
    "    Returns position by integrating the velocity\n",
    "    \"\"\"\n",
    "    p = [0,0]\n",
    "    \n",
    "    for i in range(2, vel.shape[0]):\n",
    "        \n",
    "        a = p[i-1] + (vel[i-1]+vel[i])*(dt[i]-dt[i-1])*(1/2)\n",
    "        p.append(a)\n",
    "    \n",
    "    return np.array(p)"
   ]
  },
  {
   "cell_type": "code",
   "execution_count": 12,
   "metadata": {},
   "outputs": [],
   "source": [
    "data = pd.read_csv('log7.csv', header=None)\n",
    "data.columns = 'timestamp acce ax ay az gyro gx gy gz mag mx my mz dt'.split(' ')\n",
    "\n",
    "acc = 'ax ay az'.split(' ')\n",
    "vel = 'vx vy vz'.split(' ')\n",
    "pos = 'px py pz'.split(' ')\n",
    "dt = np.array(data.timestamp)\n",
    "\n",
    "\n",
    "calibrate = pd.read_csv('static.csv')\n",
    "calibrate.columns = 'timestamp acce ax ay az gyro gx gy gz mag mx my mz dt'.split(' ')\n",
    "error_mean = {\n",
    "    'ax': float(calibrate.ax.std()),\n",
    "    'ay': float(calibrate.ay.std()),\n",
    "    'az': float(calibrate.az.std())\n",
    "}"
   ]
  },
  {
   "cell_type": "code",
   "execution_count": 13,
   "metadata": {},
   "outputs": [],
   "source": [
    "for i in range(0,3):\n",
    "    \n",
    "    data[vel[i]] = first_integrate(dt, np.array(data[acc[i]]), error_mean[acc[i]])\n",
    "    data[pos[i]] = second_integrate(dt, np.array(data[vel[i]]))"
   ]
  },
  {
   "cell_type": "code",
   "execution_count": 14,
   "metadata": {},
   "outputs": [
    {
     "data": {
      "text/html": [
       "<div>\n",
       "<style scoped>\n",
       "    .dataframe tbody tr th:only-of-type {\n",
       "        vertical-align: middle;\n",
       "    }\n",
       "\n",
       "    .dataframe tbody tr th {\n",
       "        vertical-align: top;\n",
       "    }\n",
       "\n",
       "    .dataframe thead th {\n",
       "        text-align: right;\n",
       "    }\n",
       "</style>\n",
       "<table border=\"1\" class=\"dataframe\">\n",
       "  <thead>\n",
       "    <tr style=\"text-align: right;\">\n",
       "      <th></th>\n",
       "      <th>timestamp</th>\n",
       "      <th>acce</th>\n",
       "      <th>ax</th>\n",
       "      <th>ay</th>\n",
       "      <th>az</th>\n",
       "      <th>gyro</th>\n",
       "      <th>gx</th>\n",
       "      <th>gy</th>\n",
       "      <th>gz</th>\n",
       "      <th>mag</th>\n",
       "      <th>mx</th>\n",
       "      <th>my</th>\n",
       "      <th>mz</th>\n",
       "      <th>dt</th>\n",
       "      <th>vx</th>\n",
       "      <th>px</th>\n",
       "      <th>vy</th>\n",
       "      <th>py</th>\n",
       "      <th>vz</th>\n",
       "      <th>pz</th>\n",
       "    </tr>\n",
       "  </thead>\n",
       "  <tbody>\n",
       "    <tr>\n",
       "      <th>0</th>\n",
       "      <td>682533.15002</td>\n",
       "      <td>3</td>\n",
       "      <td>-0.092</td>\n",
       "      <td>0.032</td>\n",
       "      <td>9.652</td>\n",
       "      <td>4</td>\n",
       "      <td>0.007</td>\n",
       "      <td>0.024</td>\n",
       "      <td>-0.005</td>\n",
       "      <td>5</td>\n",
       "      <td>-8.25</td>\n",
       "      <td>-16.46</td>\n",
       "      <td>15.18</td>\n",
       "      <td>0.00000</td>\n",
       "      <td>0.000000</td>\n",
       "      <td>0.000000</td>\n",
       "      <td>0.000000</td>\n",
       "      <td>0.000000</td>\n",
       "      <td>0.000000</td>\n",
       "      <td>0.000000</td>\n",
       "    </tr>\n",
       "    <tr>\n",
       "      <th>1</th>\n",
       "      <td>682533.16002</td>\n",
       "      <td>3</td>\n",
       "      <td>-0.065</td>\n",
       "      <td>0.017</td>\n",
       "      <td>9.795</td>\n",
       "      <td>4</td>\n",
       "      <td>0.007</td>\n",
       "      <td>-0.001</td>\n",
       "      <td>-0.003</td>\n",
       "      <td>5</td>\n",
       "      <td>-8.50</td>\n",
       "      <td>-16.80</td>\n",
       "      <td>15.10</td>\n",
       "      <td>0.01000</td>\n",
       "      <td>-0.001003</td>\n",
       "      <td>0.000000</td>\n",
       "      <td>0.000188</td>\n",
       "      <td>0.000000</td>\n",
       "      <td>0.096795</td>\n",
       "      <td>0.000000</td>\n",
       "    </tr>\n",
       "    <tr>\n",
       "      <th>2</th>\n",
       "      <td>682533.17007</td>\n",
       "      <td>3</td>\n",
       "      <td>-0.083</td>\n",
       "      <td>0.018</td>\n",
       "      <td>9.728</td>\n",
       "      <td>4</td>\n",
       "      <td>0.009</td>\n",
       "      <td>0.010</td>\n",
       "      <td>-0.002</td>\n",
       "      <td>5</td>\n",
       "      <td>-8.50</td>\n",
       "      <td>-16.80</td>\n",
       "      <td>15.10</td>\n",
       "      <td>0.01005</td>\n",
       "      <td>-0.001967</td>\n",
       "      <td>-0.000015</td>\n",
       "      <td>0.000306</td>\n",
       "      <td>0.000002</td>\n",
       "      <td>0.194456</td>\n",
       "      <td>0.001464</td>\n",
       "    </tr>\n",
       "    <tr>\n",
       "      <th>3</th>\n",
       "      <td>682533.18001</td>\n",
       "      <td>3</td>\n",
       "      <td>-0.072</td>\n",
       "      <td>0.018</td>\n",
       "      <td>9.759</td>\n",
       "      <td>4</td>\n",
       "      <td>0.008</td>\n",
       "      <td>0.010</td>\n",
       "      <td>-0.003</td>\n",
       "      <td>5</td>\n",
       "      <td>-8.20</td>\n",
       "      <td>-16.60</td>\n",
       "      <td>14.00</td>\n",
       "      <td>0.00994</td>\n",
       "      <td>-0.002954</td>\n",
       "      <td>-0.000039</td>\n",
       "      <td>0.000428</td>\n",
       "      <td>0.000006</td>\n",
       "      <td>0.290869</td>\n",
       "      <td>0.003876</td>\n",
       "    </tr>\n",
       "    <tr>\n",
       "      <th>4</th>\n",
       "      <td>682533.19002</td>\n",
       "      <td>3</td>\n",
       "      <td>-0.069</td>\n",
       "      <td>0.026</td>\n",
       "      <td>9.755</td>\n",
       "      <td>4</td>\n",
       "      <td>0.006</td>\n",
       "      <td>0.005</td>\n",
       "      <td>0.001</td>\n",
       "      <td>5</td>\n",
       "      <td>-8.20</td>\n",
       "      <td>-16.60</td>\n",
       "      <td>14.00</td>\n",
       "      <td>0.01001</td>\n",
       "      <td>-0.003878</td>\n",
       "      <td>-0.000074</td>\n",
       "      <td>0.000590</td>\n",
       "      <td>0.000011</td>\n",
       "      <td>0.388096</td>\n",
       "      <td>0.007274</td>\n",
       "    </tr>\n",
       "  </tbody>\n",
       "</table>\n",
       "</div>"
      ],
      "text/plain": [
       "      timestamp  acce     ax     ay     az  gyro     gx     gy     gz  mag  \\\n",
       "0  682533.15002     3 -0.092  0.032  9.652     4  0.007  0.024 -0.005    5   \n",
       "1  682533.16002     3 -0.065  0.017  9.795     4  0.007 -0.001 -0.003    5   \n",
       "2  682533.17007     3 -0.083  0.018  9.728     4  0.009  0.010 -0.002    5   \n",
       "3  682533.18001     3 -0.072  0.018  9.759     4  0.008  0.010 -0.003    5   \n",
       "4  682533.19002     3 -0.069  0.026  9.755     4  0.006  0.005  0.001    5   \n",
       "\n",
       "     mx     my     mz       dt        vx        px        vy        py  \\\n",
       "0 -8.25 -16.46  15.18  0.00000  0.000000  0.000000  0.000000  0.000000   \n",
       "1 -8.50 -16.80  15.10  0.01000 -0.001003  0.000000  0.000188  0.000000   \n",
       "2 -8.50 -16.80  15.10  0.01005 -0.001967 -0.000015  0.000306  0.000002   \n",
       "3 -8.20 -16.60  14.00  0.00994 -0.002954 -0.000039  0.000428  0.000006   \n",
       "4 -8.20 -16.60  14.00  0.01001 -0.003878 -0.000074  0.000590  0.000011   \n",
       "\n",
       "         vz        pz  \n",
       "0  0.000000  0.000000  \n",
       "1  0.096795  0.000000  \n",
       "2  0.194456  0.001464  \n",
       "3  0.290869  0.003876  \n",
       "4  0.388096  0.007274  "
      ]
     },
     "execution_count": 14,
     "metadata": {},
     "output_type": "execute_result"
    }
   ],
   "source": [
    "data.head()"
   ]
  },
  {
   "cell_type": "code",
   "execution_count": 15,
   "metadata": {},
   "outputs": [
    {
     "data": {
      "text/plain": [
       "[<matplotlib.lines.Line2D at 0x7f9dfce9aa90>]"
      ]
     },
     "execution_count": 15,
     "metadata": {},
     "output_type": "execute_result"
    },
    {
     "data": {
      "image/png": "[encoded data removed]",
      "text/plain": [
       "<Figure size 432x288 with 1 Axes>"
      ]
     },
     "metadata": {
      "needs_background": "light"
     },
     "output_type": "display_data"
    }
   ],
   "source": [
    "fig = plt.figure()\n",
    "#ax = Axes3D(fig)\n",
    "plt.plot(data.px, data.py)"
   ]
  },
  {
   "cell_type": "code",
   "execution_count": 16,
   "metadata": {},
   "outputs": [
    {
     "name": "stdout",
     "output_type": "stream",
     "text": [
      "<class 'pandas.core.frame.DataFrame'>\n",
      "RangeIndex: 1209 entries, 0 to 1208\n",
      "Data columns (total 20 columns):\n",
      "timestamp    1209 non-null float64\n",
      "acce         1209 non-null int64\n",
      "ax           1209 non-null float64\n",
      "ay           1209 non-null float64\n",
      "az           1209 non-null float64\n",
      "gyro         1209 non-null int64\n",
      "gx           1209 non-null float64\n",
      "gy           1209 non-null float64\n",
      "gz           1209 non-null float64\n",
      "mag          1209 non-null int64\n",
      "mx           1209 non-null float64\n",
      "my           1209 non-null float64\n",
      "mz           1209 non-null float64\n",
      "dt           1209 non-null float64\n",
      "vx           1209 non-null float64\n",
      "px           1209 non-null float64\n",
      "vy           1209 non-null float64\n",
      "py           1209 non-null float64\n",
      "vz           1209 non-null float64\n",
      "pz           1209 non-null float64\n",
      "dtypes: float64(17), int64(3)\n",
      "memory usage: 189.0 KB\n"
     ]
    }
   ],
   "source": [
    "data['ax', 'ay'].to_csv()"
   ]
  },
  {
   "cell_type": "code",
   "execution_count": null,
   "metadata": {},
   "outputs": [],
   "source": []
  }
 ],
 "metadata": {
  "kernelspec": {
   "display_name": "Python 3",
   "language": "python",
   "name": "python3"
  },
  "language_info": {
   "codemirror_mode": {
    "name": "ipython",
    "version": 3
   },
   "file_extension": ".py",
   "mimetype": "text/x-python",
   "name": "python",
   "nbconvert_exporter": "python",
   "pygments_lexer": "ipython3",
   "version": "3.5.2"
  }
 },
 "nbformat": 4,
 "nbformat_minor": 2
}
