{
 "cells": [
  {
   "cell_type": "code",
   "execution_count": 2,
   "metadata": {},
   "outputs": [],
   "source": [
    "import pandas as pd\n",
    "import numpy as np\n",
    "import matplotlib.pyplot as plt\n",
    "from mpl_toolkits.mplot3d import Axes3D\n",
    "import math\n",
    "%matplotlib inline"
   ]
  },
  {
   "cell_type": "code",
   "execution_count": 26,
   "metadata": {},
   "outputs": [],
   "source": [
    "def first_integrate(dt, acce, mean):\n",
    "    \"\"\"\n",
    "    Returns a velocity by integrating the acceleration\n",
    "    \"\"\"\n",
    "    v = [0]\n",
    "    for i in range(1, acce.shape[0]):\n",
    "        \n",
    "        a = v[i-1] + (acce[i] - mean)*(dt[i]-dt[i-1])*(2/2)\n",
    "        v.append(a)\n",
    "    \n",
    "    return np.array(v)"
   ]
  },
  {
   "cell_type": "code",
   "execution_count": 27,
   "metadata": {},
   "outputs": [],
   "source": [
    "def second_integrate(dt, vel):\n",
    "    \"\"\"\n",
    "    Returns position by integrating the velocity\n",
    "    \"\"\"\n",
    "    p = [0,0]\n",
    "    \n",
    "    for i in range(2, vel.shape[0]):\n",
    "        \n",
    "        a = p[i-1] + (vel[i-1]+vel[i])*(dt[i]-dt[i-1])*(1/2)\n",
    "        p.append(a)\n",
    "    \n",
    "    return np.array(p)"
   ]
  },
  {
   "cell_type": "code",
   "execution_count": 28,
   "metadata": {},
   "outputs": [
    {
     "name": "stdout",
     "output_type": "stream",
     "text": [
      "log11.csv  log2.csv  log4.csv  log6.csv  log9.csv\r\n",
      "log1.csv   log3.csv  log5.csv  log7.csv  log.csv\r\n"
     ]
    }
   ],
   "source": [
    "!ls log*"
   ]
  },
  {
   "cell_type": "code",
   "execution_count": 29,
   "metadata": {},
   "outputs": [],
   "source": [
    "data = pd.read_csv('log7.csv', header=None)\n",
    "data.columns = 'timestamp acce ax ay az gyro gx gy gz mag mx my mz dt'.split(' ')\n",
    "\n",
    "acc = 'ax ay az'.split(' ')\n",
    "vel = 'vx vy vz'.split(' ')\n",
    "pos = 'px py pz'.split(' ')\n",
    "dt = np.array(data.timestamp)\n",
    "\n",
    "\n",
    "calibrate = pd.read_csv('static.csv')\n",
    "calibrate.columns = 'timestamp acce ax ay az gyro gx gy gz mag mx my mz dt'.split(' ')\n",
    "error_mean = {\n",
    "    'ax': float(calibrate.ax.mean()),\n",
    "    'ay': float(calibrate.ay.mean()),\n",
    "    'az': float(calibrate.az.mean()),\n",
    "    'gz': float(calibrate.gz.mean())\n",
    "}"
   ]
  },
  {
   "cell_type": "code",
   "execution_count": 30,
   "metadata": {},
   "outputs": [],
   "source": [
    "for i in range(0,3):\n",
    "    \n",
    "    data[vel[i]] = first_integrate(dt, np.array(data[acc[i]]), error_mean[acc[i]])\n",
    "    data[pos[i]] = second_integrate(dt, np.array(data[vel[i]]))\n",
    "\n",
    "data['angle'] = first_integrate(dt, np.array(data['gz']), error_mean['gz'])\n",
    "#data['angle'] = data['angle'].apply(lambda x: math.degrees(x))"
   ]
  },
  {
   "cell_type": "code",
   "execution_count": 31,
   "metadata": {},
   "outputs": [
    {
     "data": {
      "text/html": [
       "<div>\n",
       "<style scoped>\n",
       "    .dataframe tbody tr th:only-of-type {\n",
       "        vertical-align: middle;\n",
       "    }\n",
       "\n",
       "    .dataframe tbody tr th {\n",
       "        vertical-align: top;\n",
       "    }\n",
       "\n",
       "    .dataframe thead th {\n",
       "        text-align: right;\n",
       "    }\n",
       "</style>\n",
       "<table border=\"1\" class=\"dataframe\">\n",
       "  <thead>\n",
       "    <tr style=\"text-align: right;\">\n",
       "      <th></th>\n",
       "      <th>timestamp</th>\n",
       "      <th>acce</th>\n",
       "      <th>ax</th>\n",
       "      <th>ay</th>\n",
       "      <th>az</th>\n",
       "      <th>gyro</th>\n",
       "      <th>gx</th>\n",
       "      <th>gy</th>\n",
       "      <th>gz</th>\n",
       "      <th>mag</th>\n",
       "      <th>...</th>\n",
       "      <th>my</th>\n",
       "      <th>mz</th>\n",
       "      <th>dt</th>\n",
       "      <th>vx</th>\n",
       "      <th>px</th>\n",
       "      <th>vy</th>\n",
       "      <th>py</th>\n",
       "      <th>vz</th>\n",
       "      <th>pz</th>\n",
       "      <th>angle</th>\n",
       "    </tr>\n",
       "  </thead>\n",
       "  <tbody>\n",
       "    <tr>\n",
       "      <th>0</th>\n",
       "      <td>682533.15002</td>\n",
       "      <td>3</td>\n",
       "      <td>-0.092</td>\n",
       "      <td>0.032</td>\n",
       "      <td>9.652</td>\n",
       "      <td>4</td>\n",
       "      <td>0.007</td>\n",
       "      <td>0.024</td>\n",
       "      <td>-0.005</td>\n",
       "      <td>5</td>\n",
       "      <td>...</td>\n",
       "      <td>-16.46</td>\n",
       "      <td>15.18</td>\n",
       "      <td>0.00000</td>\n",
       "      <td>0.000000</td>\n",
       "      <td>0.000000</td>\n",
       "      <td>0.000000</td>\n",
       "      <td>0.000000</td>\n",
       "      <td>0.000000</td>\n",
       "      <td>0.000000</td>\n",
       "      <td>0.000000</td>\n",
       "    </tr>\n",
       "    <tr>\n",
       "      <th>1</th>\n",
       "      <td>682533.16002</td>\n",
       "      <td>3</td>\n",
       "      <td>-0.065</td>\n",
       "      <td>0.017</td>\n",
       "      <td>9.795</td>\n",
       "      <td>4</td>\n",
       "      <td>0.007</td>\n",
       "      <td>-0.001</td>\n",
       "      <td>-0.003</td>\n",
       "      <td>5</td>\n",
       "      <td>...</td>\n",
       "      <td>-16.80</td>\n",
       "      <td>15.10</td>\n",
       "      <td>0.01000</td>\n",
       "      <td>-0.000219</td>\n",
       "      <td>0.000000</td>\n",
       "      <td>0.001225</td>\n",
       "      <td>0.000000</td>\n",
       "      <td>0.000573</td>\n",
       "      <td>0.000000</td>\n",
       "      <td>-0.000029</td>\n",
       "    </tr>\n",
       "    <tr>\n",
       "      <th>2</th>\n",
       "      <td>682533.17007</td>\n",
       "      <td>3</td>\n",
       "      <td>-0.083</td>\n",
       "      <td>0.018</td>\n",
       "      <td>9.728</td>\n",
       "      <td>4</td>\n",
       "      <td>0.009</td>\n",
       "      <td>0.010</td>\n",
       "      <td>-0.002</td>\n",
       "      <td>5</td>\n",
       "      <td>...</td>\n",
       "      <td>-16.80</td>\n",
       "      <td>15.10</td>\n",
       "      <td>0.01005</td>\n",
       "      <td>-0.000620</td>\n",
       "      <td>-0.000004</td>\n",
       "      <td>0.002467</td>\n",
       "      <td>0.000019</td>\n",
       "      <td>0.000477</td>\n",
       "      <td>0.000005</td>\n",
       "      <td>-0.000048</td>\n",
       "    </tr>\n",
       "    <tr>\n",
       "      <th>3</th>\n",
       "      <td>682533.18001</td>\n",
       "      <td>3</td>\n",
       "      <td>-0.072</td>\n",
       "      <td>0.018</td>\n",
       "      <td>9.759</td>\n",
       "      <td>4</td>\n",
       "      <td>0.008</td>\n",
       "      <td>0.010</td>\n",
       "      <td>-0.003</td>\n",
       "      <td>5</td>\n",
       "      <td>...</td>\n",
       "      <td>-16.60</td>\n",
       "      <td>14.00</td>\n",
       "      <td>0.00994</td>\n",
       "      <td>-0.000907</td>\n",
       "      <td>-0.000012</td>\n",
       "      <td>0.003695</td>\n",
       "      <td>0.000049</td>\n",
       "      <td>0.000689</td>\n",
       "      <td>0.000011</td>\n",
       "      <td>-0.000077</td>\n",
       "    </tr>\n",
       "    <tr>\n",
       "      <th>4</th>\n",
       "      <td>682533.19002</td>\n",
       "      <td>3</td>\n",
       "      <td>-0.069</td>\n",
       "      <td>0.026</td>\n",
       "      <td>9.755</td>\n",
       "      <td>4</td>\n",
       "      <td>0.006</td>\n",
       "      <td>0.005</td>\n",
       "      <td>0.001</td>\n",
       "      <td>5</td>\n",
       "      <td>...</td>\n",
       "      <td>-16.60</td>\n",
       "      <td>14.00</td>\n",
       "      <td>0.01001</td>\n",
       "      <td>-0.001166</td>\n",
       "      <td>-0.000022</td>\n",
       "      <td>0.005012</td>\n",
       "      <td>0.000093</td>\n",
       "      <td>0.000862</td>\n",
       "      <td>0.000019</td>\n",
       "      <td>-0.000066</td>\n",
       "    </tr>\n",
       "  </tbody>\n",
       "</table>\n",
       "<p>5 rows × 21 columns</p>\n",
       "</div>"
      ],
      "text/plain": [
       "      timestamp  acce     ax     ay     az  gyro     gx     gy     gz  mag  \\\n",
       "0  682533.15002     3 -0.092  0.032  9.652     4  0.007  0.024 -0.005    5   \n",
       "1  682533.16002     3 -0.065  0.017  9.795     4  0.007 -0.001 -0.003    5   \n",
       "2  682533.17007     3 -0.083  0.018  9.728     4  0.009  0.010 -0.002    5   \n",
       "3  682533.18001     3 -0.072  0.018  9.759     4  0.008  0.010 -0.003    5   \n",
       "4  682533.19002     3 -0.069  0.026  9.755     4  0.006  0.005  0.001    5   \n",
       "\n",
       "   ...     my     mz       dt        vx        px        vy        py  \\\n",
       "0  ... -16.46  15.18  0.00000  0.000000  0.000000  0.000000  0.000000   \n",
       "1  ... -16.80  15.10  0.01000 -0.000219  0.000000  0.001225  0.000000   \n",
       "2  ... -16.80  15.10  0.01005 -0.000620 -0.000004  0.002467  0.000019   \n",
       "3  ... -16.60  14.00  0.00994 -0.000907 -0.000012  0.003695  0.000049   \n",
       "4  ... -16.60  14.00  0.01001 -0.001166 -0.000022  0.005012  0.000093   \n",
       "\n",
       "         vz        pz     angle  \n",
       "0  0.000000  0.000000  0.000000  \n",
       "1  0.000573  0.000000 -0.000029  \n",
       "2  0.000477  0.000005 -0.000048  \n",
       "3  0.000689  0.000011 -0.000077  \n",
       "4  0.000862  0.000019 -0.000066  \n",
       "\n",
       "[5 rows x 21 columns]"
      ]
     },
     "execution_count": 31,
     "metadata": {},
     "output_type": "execute_result"
    }
   ],
   "source": [
    "data.head()"
   ]
  },
  {
   "cell_type": "code",
   "execution_count": 32,
   "metadata": {},
   "outputs": [
    {
     "data": {
      "text/plain": [
       "[<matplotlib.lines.Line2D at 0x7f2bddb1b2b0>]"
      ]
     },
     "execution_count": 32,
     "metadata": {},
     "output_type": "execute_result"
    },
    {
     "data": {
      "image/png": "[encoded data removed]",
      "text/plain": [
       "<Figure size 432x288 with 1 Axes>"
      ]
     },
     "metadata": {
      "needs_background": "light"
     },
     "output_type": "display_data"
    }
   ],
   "source": [
    "fig = plt.figure()\n",
    "#ax = Axes3D(fig)\n",
    "plt.plot(data.px, data.py)"
   ]
  },
  {
   "cell_type": "code",
   "execution_count": 33,
   "metadata": {},
   "outputs": [],
   "source": [
    "###################################################################################################\n",
    "#                                                                                                 #\n",
    "#                                                                                                 #\n",
    "#      X velocity with gyro correction                                                            #\n",
    "#                                                                                                 #\n",
    "###################################################################################################"
   ]
  },
  {
   "cell_type": "code",
   "execution_count": 34,
   "metadata": {},
   "outputs": [],
   "source": [
    "ax = np.array(data.ax)\n",
    "ay = np.array(data.ay)\n",
    "dt = np.array(data.timestamp)\n",
    "angle = np.array(data.angle)\n"
   ]
  },
  {
   "cell_type": "code",
   "execution_count": 35,
   "metadata": {},
   "outputs": [],
   "source": [
    "vx = [0]\n",
    "for i in range(1, ax.shape[0]):\n",
    "    \n",
    "    acx = ax[i]*math.cos(-angle[i]) - ay[i]*math.sin(-angle[i])\n",
    "    v = vx[i-1] + acx*(dt[i] - dt[i-1])\n",
    "    vx.append(v)\n",
    "vx = np.array(vx)\n",
    "\n"
   ]
  },
  {
   "cell_type": "code",
   "execution_count": 36,
   "metadata": {},
   "outputs": [],
   "source": [
    "###################################################################################################\n",
    "#                                                                                                 #\n",
    "#                                                                                                 #\n",
    "#      Y velocity with gyro correction                                                            #\n",
    "#                                                                                                 #\n",
    "###################################################################################################    "
   ]
  },
  {
   "cell_type": "code",
   "execution_count": 37,
   "metadata": {},
   "outputs": [],
   "source": [
    "vy = [0]\n",
    "for i in range(1, ay.shape[0]):\n",
    "    \n",
    "    acy = ax[i]*math.sin(-angle[i]) + ay[i]*math.cos(-angle[i])\n",
    "    v = vy[i-1] + acy*(dt[i] - dt[i-1])\n",
    "    vy.append(v)\n",
    "vy = np.array(vy)"
   ]
  },
  {
   "cell_type": "code",
   "execution_count": 38,
   "metadata": {},
   "outputs": [],
   "source": [
    "posx = second_integrate(dt, vx)\n",
    "posy = second_integrate(dt, vy)"
   ]
  },
  {
   "cell_type": "code",
   "execution_count": 39,
   "metadata": {},
   "outputs": [
    {
     "data": {
      "text/plain": [
       "[<matplotlib.lines.Line2D at 0x7f2bddad7128>]"
      ]
     },
     "execution_count": 39,
     "metadata": {},
     "output_type": "execute_result"
    },
    {
     "data": {
      "image/png": "[encoded data removed]",
      "text/plain": [
       "<Figure size 432x288 with 1 Axes>"
      ]
     },
     "metadata": {
      "needs_background": "light"
     },
     "output_type": "display_data"
    }
   ],
   "source": [
    "plt.plot(posx, posy)"
   ]
  },
  {
   "cell_type": "code",
   "execution_count": 40,
   "metadata": {},
   "outputs": [],
   "source": [
    "abs_data = pd.DataFrame(columns='dt ax ay az'.split(' '))"
   ]
  },
  {
   "cell_type": "code",
   "execution_count": 41,
   "metadata": {},
   "outputs": [
    {
     "data": {
      "text/html": [
       "<div>\n",
       "<style scoped>\n",
       "    .dataframe tbody tr th:only-of-type {\n",
       "        vertical-align: middle;\n",
       "    }\n",
       "\n",
       "    .dataframe tbody tr th {\n",
       "        vertical-align: top;\n",
       "    }\n",
       "\n",
       "    .dataframe thead th {\n",
       "        text-align: right;\n",
       "    }\n",
       "</style>\n",
       "<table border=\"1\" class=\"dataframe\">\n",
       "  <thead>\n",
       "    <tr style=\"text-align: right;\">\n",
       "      <th></th>\n",
       "      <th>dt</th>\n",
       "      <th>ax</th>\n",
       "      <th>ay</th>\n",
       "      <th>az</th>\n",
       "    </tr>\n",
       "  </thead>\n",
       "  <tbody>\n",
       "  </tbody>\n",
       "</table>\n",
       "</div>"
      ],
      "text/plain": [
       "Empty DataFrame\n",
       "Columns: [dt, ax, ay, az]\n",
       "Index: []"
      ]
     },
     "execution_count": 41,
     "metadata": {},
     "output_type": "execute_result"
    }
   ],
   "source": [
    "abs_data.head()"
   ]
  },
  {
   "cell_type": "code",
   "execution_count": 42,
   "metadata": {},
   "outputs": [],
   "source": [
    "acc_vector = np.array(([ [0,0] ]))"
   ]
  },
  {
   "cell_type": "code",
   "execution_count": 43,
   "metadata": {},
   "outputs": [],
   "source": [
    "for i in range(0, ax.shape[0]):\n",
    "    #print(ax[i], ay[i])\n",
    "    vector = np.array( ([ax[i]] , [ay[i]] ))\n",
    "    rotate_matrix = np.array (( [math.cos(-angle[i]), -math.sin(-angle[i])],\n",
    "                                [math.sin(-angle[i]),  math.cos(-angle[i])] ))\n",
    "    aceleration = rotate_matrix @ vector\n",
    "    acc_vector = np.concatenate((acc_vector, aceleration.T), axis=0)"
   ]
  },
  {
   "cell_type": "code",
   "execution_count": 44,
   "metadata": {},
   "outputs": [],
   "source": [
    "abs_data.ax = acc_vector[1:,0]\n",
    "abs_data.ay = acc_vector[1:,1]\n",
    "abs_data.dt = dt"
   ]
  },
  {
   "cell_type": "code",
   "execution_count": 45,
   "metadata": {},
   "outputs": [
    {
     "data": {
      "text/html": [
       "<div>\n",
       "<style scoped>\n",
       "    .dataframe tbody tr th:only-of-type {\n",
       "        vertical-align: middle;\n",
       "    }\n",
       "\n",
       "    .dataframe tbody tr th {\n",
       "        vertical-align: top;\n",
       "    }\n",
       "\n",
       "    .dataframe thead th {\n",
       "        text-align: right;\n",
       "    }\n",
       "</style>\n",
       "<table border=\"1\" class=\"dataframe\">\n",
       "  <thead>\n",
       "    <tr style=\"text-align: right;\">\n",
       "      <th></th>\n",
       "      <th>dt</th>\n",
       "      <th>ax</th>\n",
       "      <th>ay</th>\n",
       "      <th>az</th>\n",
       "    </tr>\n",
       "  </thead>\n",
       "  <tbody>\n",
       "    <tr>\n",
       "      <th>0</th>\n",
       "      <td>682533.15002</td>\n",
       "      <td>-0.092000</td>\n",
       "      <td>0.032000</td>\n",
       "      <td>NaN</td>\n",
       "    </tr>\n",
       "    <tr>\n",
       "      <th>1</th>\n",
       "      <td>682533.16002</td>\n",
       "      <td>-0.065000</td>\n",
       "      <td>0.016998</td>\n",
       "      <td>NaN</td>\n",
       "    </tr>\n",
       "    <tr>\n",
       "      <th>2</th>\n",
       "      <td>682533.17007</td>\n",
       "      <td>-0.083001</td>\n",
       "      <td>0.017996</td>\n",
       "      <td>NaN</td>\n",
       "    </tr>\n",
       "    <tr>\n",
       "      <th>3</th>\n",
       "      <td>682533.18001</td>\n",
       "      <td>-0.072001</td>\n",
       "      <td>0.017994</td>\n",
       "      <td>NaN</td>\n",
       "    </tr>\n",
       "    <tr>\n",
       "      <th>4</th>\n",
       "      <td>682533.19002</td>\n",
       "      <td>-0.069002</td>\n",
       "      <td>0.025995</td>\n",
       "      <td>NaN</td>\n",
       "    </tr>\n",
       "  </tbody>\n",
       "</table>\n",
       "</div>"
      ],
      "text/plain": [
       "             dt        ax        ay   az\n",
       "0  682533.15002 -0.092000  0.032000  NaN\n",
       "1  682533.16002 -0.065000  0.016998  NaN\n",
       "2  682533.17007 -0.083001  0.017996  NaN\n",
       "3  682533.18001 -0.072001  0.017994  NaN\n",
       "4  682533.19002 -0.069002  0.025995  NaN"
      ]
     },
     "execution_count": 45,
     "metadata": {},
     "output_type": "execute_result"
    }
   ],
   "source": [
    "abs_data.head()"
   ]
  },
  {
   "cell_type": "code",
   "execution_count": 46,
   "metadata": {},
   "outputs": [],
   "source": [
    "acc = 'ax ay az'.split(' ')\n",
    "vel = 'vx vy vz'.split(' ')\n",
    "pos = 'px py pz'.split(' ')\n",
    "\n",
    "for i in range(0,3):\n",
    "    \n",
    "    abs_data[vel[i]] = first_integrate(dt, np.array(abs_data[acc[i]]), error_mean[acc[i]])\n",
    "    abs_data[pos[i]] = second_integrate(dt, np.array(abs_data[vel[i]]))"
   ]
  },
  {
   "cell_type": "code",
   "execution_count": 47,
   "metadata": {},
   "outputs": [
    {
     "data": {
      "text/html": [
       "<div>\n",
       "<style scoped>\n",
       "    .dataframe tbody tr th:only-of-type {\n",
       "        vertical-align: middle;\n",
       "    }\n",
       "\n",
       "    .dataframe tbody tr th {\n",
       "        vertical-align: top;\n",
       "    }\n",
       "\n",
       "    .dataframe thead th {\n",
       "        text-align: right;\n",
       "    }\n",
       "</style>\n",
       "<table border=\"1\" class=\"dataframe\">\n",
       "  <thead>\n",
       "    <tr style=\"text-align: right;\">\n",
       "      <th></th>\n",
       "      <th>dt</th>\n",
       "      <th>ax</th>\n",
       "      <th>ay</th>\n",
       "      <th>az</th>\n",
       "      <th>vx</th>\n",
       "      <th>px</th>\n",
       "      <th>vy</th>\n",
       "      <th>py</th>\n",
       "      <th>vz</th>\n",
       "      <th>pz</th>\n",
       "    </tr>\n",
       "  </thead>\n",
       "  <tbody>\n",
       "    <tr>\n",
       "      <th>0</th>\n",
       "      <td>682533.15002</td>\n",
       "      <td>-0.092000</td>\n",
       "      <td>0.032000</td>\n",
       "      <td>NaN</td>\n",
       "      <td>0.000000</td>\n",
       "      <td>0.000000</td>\n",
       "      <td>0.000000</td>\n",
       "      <td>0.000000</td>\n",
       "      <td>0.0</td>\n",
       "      <td>0.0</td>\n",
       "    </tr>\n",
       "    <tr>\n",
       "      <th>1</th>\n",
       "      <td>682533.16002</td>\n",
       "      <td>-0.065000</td>\n",
       "      <td>0.016998</td>\n",
       "      <td>NaN</td>\n",
       "      <td>-0.000219</td>\n",
       "      <td>0.000000</td>\n",
       "      <td>0.001225</td>\n",
       "      <td>0.000000</td>\n",
       "      <td>NaN</td>\n",
       "      <td>0.0</td>\n",
       "    </tr>\n",
       "    <tr>\n",
       "      <th>2</th>\n",
       "      <td>682533.17007</td>\n",
       "      <td>-0.083001</td>\n",
       "      <td>0.017996</td>\n",
       "      <td>NaN</td>\n",
       "      <td>-0.000620</td>\n",
       "      <td>-0.000004</td>\n",
       "      <td>0.002467</td>\n",
       "      <td>0.000019</td>\n",
       "      <td>NaN</td>\n",
       "      <td>NaN</td>\n",
       "    </tr>\n",
       "    <tr>\n",
       "      <th>3</th>\n",
       "      <td>682533.18001</td>\n",
       "      <td>-0.072001</td>\n",
       "      <td>0.017994</td>\n",
       "      <td>NaN</td>\n",
       "      <td>-0.000907</td>\n",
       "      <td>-0.000012</td>\n",
       "      <td>0.003695</td>\n",
       "      <td>0.000049</td>\n",
       "      <td>NaN</td>\n",
       "      <td>NaN</td>\n",
       "    </tr>\n",
       "    <tr>\n",
       "      <th>4</th>\n",
       "      <td>682533.19002</td>\n",
       "      <td>-0.069002</td>\n",
       "      <td>0.025995</td>\n",
       "      <td>NaN</td>\n",
       "      <td>-0.001166</td>\n",
       "      <td>-0.000022</td>\n",
       "      <td>0.005012</td>\n",
       "      <td>0.000093</td>\n",
       "      <td>NaN</td>\n",
       "      <td>NaN</td>\n",
       "    </tr>\n",
       "  </tbody>\n",
       "</table>\n",
       "</div>"
      ],
      "text/plain": [
       "             dt        ax        ay   az        vx        px        vy  \\\n",
       "0  682533.15002 -0.092000  0.032000  NaN  0.000000  0.000000  0.000000   \n",
       "1  682533.16002 -0.065000  0.016998  NaN -0.000219  0.000000  0.001225   \n",
       "2  682533.17007 -0.083001  0.017996  NaN -0.000620 -0.000004  0.002467   \n",
       "3  682533.18001 -0.072001  0.017994  NaN -0.000907 -0.000012  0.003695   \n",
       "4  682533.19002 -0.069002  0.025995  NaN -0.001166 -0.000022  0.005012   \n",
       "\n",
       "         py   vz   pz  \n",
       "0  0.000000  0.0  0.0  \n",
       "1  0.000000  NaN  0.0  \n",
       "2  0.000019  NaN  NaN  \n",
       "3  0.000049  NaN  NaN  \n",
       "4  0.000093  NaN  NaN  "
      ]
     },
     "execution_count": 47,
     "metadata": {},
     "output_type": "execute_result"
    }
   ],
   "source": [
    "abs_data.head()"
   ]
  },
  {
   "cell_type": "code",
   "execution_count": 48,
   "metadata": {},
   "outputs": [
    {
     "data": {
      "text/plain": [
       "[<matplotlib.lines.Line2D at 0x7f2bdda9b240>]"
      ]
     },
     "execution_count": 48,
     "metadata": {},
     "output_type": "execute_result"
    },
    {
     "data": {
      "image/png": "[encoded data removed]",
      "text/plain": [
       "<Figure size 432x288 with 1 Axes>"
      ]
     },
     "metadata": {
      "needs_background": "light"
     },
     "output_type": "display_data"
    }
   ],
   "source": [
    "plt.plot(abs_data.px, abs_data.py)"
   ]
  },
  {
   "cell_type": "code",
   "execution_count": null,
   "metadata": {},
   "outputs": [],
   "source": []
  },
  {
   "cell_type": "code",
   "execution_count": null,
   "metadata": {},
   "outputs": [],
   "source": []
  },
  {
   "cell_type": "code",
   "execution_count": null,
   "metadata": {},
   "outputs": [],
   "source": []
  },
  {
   "cell_type": "code",
   "execution_count": null,
   "metadata": {},
   "outputs": [],
   "source": []
  },
  {
   "cell_type": "code",
   "execution_count": null,
   "metadata": {},
   "outputs": [],
   "source": []
  }
 ],
 "metadata": {
  "kernelspec": {
   "display_name": "Python 3",
   "language": "python",
   "name": "python3"
  },
  "language_info": {
   "codemirror_mode": {
    "name": "ipython",
    "version": 3
   },
   "file_extension": ".py",
   "mimetype": "text/x-python",
   "name": "python",
   "nbconvert_exporter": "python",
   "pygments_lexer": "ipython3",
   "version": "3.5.2"
  }
 },
 "nbformat": 4,
 "nbformat_minor": 2
}
