{
 "cells": [
  {
   "cell_type": "code",
   "execution_count": 104,
   "metadata": {},
   "outputs": [],
   "source": [
    "import pandas as pd\n",
    "import numpy as np\n",
    "import matplotlib.pyplot as plt\n",
    "from mpl_toolkits.mplot3d import Axes3D\n",
    "import math\n",
    "%matplotlib inline"
   ]
  },
  {
   "cell_type": "code",
   "execution_count": 105,
   "metadata": {},
   "outputs": [],
   "source": [
    "def first_integrate(dt, acce, mean):\n",
    "    \"\"\"\n",
    "    Returns a velocity by integrating the acceleration\n",
    "    \"\"\"\n",
    "    v = [0]\n",
    "    for i in range(1, acce.shape[0]):\n",
    "        \n",
    "        a = v[i-1] + (acce[i-1] + acce[i] - 2 * mean)*(dt[i]-dt[i-1])*(1/2)\n",
    "        v.append(a)\n",
    "    \n",
    "    return np.array(v)"
   ]
  },
  {
   "cell_type": "code",
   "execution_count": 106,
   "metadata": {},
   "outputs": [],
   "source": [
    "def second_integrate(dt, vel):\n",
    "    \"\"\"\n",
    "    Returns position by integrating the velocity\n",
    "    \"\"\"\n",
    "    p = [0,0]\n",
    "    \n",
    "    for i in range(2, vel.shape[0]):\n",
    "        \n",
    "        a = p[i-1] + (vel[i-1]+vel[i])*(dt[i]-dt[i-1])*(1/2)\n",
    "        p.append(a)\n",
    "    \n",
    "    return np.array(p)"
   ]
  },
  {
   "cell_type": "code",
   "execution_count": 107,
   "metadata": {},
   "outputs": [],
   "source": [
    "data = pd.read_csv('log7.csv', header=None)\n",
    "data.columns = 'timestamp acce ax ay az gyro gx gy gz mag mx my mz dt'.split(' ')\n",
    "\n",
    "acc = 'ax ay az'.split(' ')\n",
    "vel = 'vx vy vz'.split(' ')\n",
    "pos = 'px py pz'.split(' ')\n",
    "dt = np.array(data.timestamp)\n",
    "\n",
    "\n",
    "calibrate = pd.read_csv('static.csv')\n",
    "calibrate.columns = 'timestamp acce ax ay az gyro gx gy gz mag mx my mz dt'.split(' ')\n",
    "error_mean = {\n",
    "    'ax': float(calibrate.ax.std()),\n",
    "    'ay': float(calibrate.ay.std()),\n",
    "    'az': float(calibrate.az.std()),\n",
    "    'gz': float(calibrate.gz.std())\n",
    "}"
   ]
  },
  {
   "cell_type": "code",
   "execution_count": 108,
   "metadata": {},
   "outputs": [],
   "source": [
    "for i in range(0,3):\n",
    "    \n",
    "    data[vel[i]] = first_integrate(dt, np.array(data[acc[i]]), error_mean[acc[i]])\n",
    "    data[pos[i]] = second_integrate(dt, np.array(data[vel[i]]))\n",
    "\n",
    "data['angle'] = first_integrate(dt, np.array(data['gz']), error_mean['gz'])\n",
    "data['angle'] = data['angle'].apply(lambda x: math.degrees(x))"
   ]
  },
  {
   "cell_type": "code",
   "execution_count": 109,
   "metadata": {},
   "outputs": [
    {
     "data": {
      "text/html": [
       "<div>\n",
       "<style scoped>\n",
       "    .dataframe tbody tr th:only-of-type {\n",
       "        vertical-align: middle;\n",
       "    }\n",
       "\n",
       "    .dataframe tbody tr th {\n",
       "        vertical-align: top;\n",
       "    }\n",
       "\n",
       "    .dataframe thead th {\n",
       "        text-align: right;\n",
       "    }\n",
       "</style>\n",
       "<table border=\"1\" class=\"dataframe\">\n",
       "  <thead>\n",
       "    <tr style=\"text-align: right;\">\n",
       "      <th></th>\n",
       "      <th>timestamp</th>\n",
       "      <th>acce</th>\n",
       "      <th>ax</th>\n",
       "      <th>ay</th>\n",
       "      <th>az</th>\n",
       "      <th>gyro</th>\n",
       "      <th>gx</th>\n",
       "      <th>gy</th>\n",
       "      <th>gz</th>\n",
       "      <th>mag</th>\n",
       "      <th>...</th>\n",
       "      <th>my</th>\n",
       "      <th>mz</th>\n",
       "      <th>dt</th>\n",
       "      <th>vx</th>\n",
       "      <th>px</th>\n",
       "      <th>vy</th>\n",
       "      <th>py</th>\n",
       "      <th>vz</th>\n",
       "      <th>pz</th>\n",
       "      <th>angle</th>\n",
       "    </tr>\n",
       "  </thead>\n",
       "  <tbody>\n",
       "    <tr>\n",
       "      <th>0</th>\n",
       "      <td>682533.15002</td>\n",
       "      <td>3</td>\n",
       "      <td>-0.092</td>\n",
       "      <td>0.032</td>\n",
       "      <td>9.652</td>\n",
       "      <td>4</td>\n",
       "      <td>0.007</td>\n",
       "      <td>0.024</td>\n",
       "      <td>-0.005</td>\n",
       "      <td>5</td>\n",
       "      <td>...</td>\n",
       "      <td>-16.46</td>\n",
       "      <td>15.18</td>\n",
       "      <td>0.00000</td>\n",
       "      <td>0.000000</td>\n",
       "      <td>0.000000</td>\n",
       "      <td>0.000000</td>\n",
       "      <td>0.000000</td>\n",
       "      <td>0.000000</td>\n",
       "      <td>0.000000</td>\n",
       "      <td>0.000000</td>\n",
       "    </tr>\n",
       "    <tr>\n",
       "      <th>1</th>\n",
       "      <td>682533.16002</td>\n",
       "      <td>3</td>\n",
       "      <td>-0.065</td>\n",
       "      <td>0.017</td>\n",
       "      <td>9.795</td>\n",
       "      <td>4</td>\n",
       "      <td>0.007</td>\n",
       "      <td>-0.001</td>\n",
       "      <td>-0.003</td>\n",
       "      <td>5</td>\n",
       "      <td>...</td>\n",
       "      <td>-16.80</td>\n",
       "      <td>15.10</td>\n",
       "      <td>0.01000</td>\n",
       "      <td>-0.001003</td>\n",
       "      <td>0.000000</td>\n",
       "      <td>0.000188</td>\n",
       "      <td>0.000000</td>\n",
       "      <td>0.096795</td>\n",
       "      <td>0.000000</td>\n",
       "      <td>-0.002997</td>\n",
       "    </tr>\n",
       "    <tr>\n",
       "      <th>2</th>\n",
       "      <td>682533.17007</td>\n",
       "      <td>3</td>\n",
       "      <td>-0.083</td>\n",
       "      <td>0.018</td>\n",
       "      <td>9.728</td>\n",
       "      <td>4</td>\n",
       "      <td>0.009</td>\n",
       "      <td>0.010</td>\n",
       "      <td>-0.002</td>\n",
       "      <td>5</td>\n",
       "      <td>...</td>\n",
       "      <td>-16.80</td>\n",
       "      <td>15.10</td>\n",
       "      <td>0.01005</td>\n",
       "      <td>-0.001967</td>\n",
       "      <td>-0.000015</td>\n",
       "      <td>0.000306</td>\n",
       "      <td>0.000002</td>\n",
       "      <td>0.194456</td>\n",
       "      <td>0.001464</td>\n",
       "      <td>-0.005146</td>\n",
       "    </tr>\n",
       "    <tr>\n",
       "      <th>3</th>\n",
       "      <td>682533.18001</td>\n",
       "      <td>3</td>\n",
       "      <td>-0.072</td>\n",
       "      <td>0.018</td>\n",
       "      <td>9.759</td>\n",
       "      <td>4</td>\n",
       "      <td>0.008</td>\n",
       "      <td>0.010</td>\n",
       "      <td>-0.003</td>\n",
       "      <td>5</td>\n",
       "      <td>...</td>\n",
       "      <td>-16.60</td>\n",
       "      <td>14.00</td>\n",
       "      <td>0.00994</td>\n",
       "      <td>-0.002954</td>\n",
       "      <td>-0.000039</td>\n",
       "      <td>0.000428</td>\n",
       "      <td>0.000006</td>\n",
       "      <td>0.290869</td>\n",
       "      <td>0.003876</td>\n",
       "      <td>-0.007271</td>\n",
       "    </tr>\n",
       "    <tr>\n",
       "      <th>4</th>\n",
       "      <td>682533.19002</td>\n",
       "      <td>3</td>\n",
       "      <td>-0.069</td>\n",
       "      <td>0.026</td>\n",
       "      <td>9.755</td>\n",
       "      <td>4</td>\n",
       "      <td>0.006</td>\n",
       "      <td>0.005</td>\n",
       "      <td>0.001</td>\n",
       "      <td>5</td>\n",
       "      <td>...</td>\n",
       "      <td>-16.60</td>\n",
       "      <td>14.00</td>\n",
       "      <td>0.01001</td>\n",
       "      <td>-0.003878</td>\n",
       "      <td>-0.000074</td>\n",
       "      <td>0.000590</td>\n",
       "      <td>0.000011</td>\n",
       "      <td>0.388096</td>\n",
       "      <td>0.007274</td>\n",
       "      <td>-0.008551</td>\n",
       "    </tr>\n",
       "  </tbody>\n",
       "</table>\n",
       "<p>5 rows × 21 columns</p>\n",
       "</div>"
      ],
      "text/plain": [
       "      timestamp  acce     ax     ay     az  gyro     gx     gy     gz  mag  \\\n",
       "0  682533.15002     3 -0.092  0.032  9.652     4  0.007  0.024 -0.005    5   \n",
       "1  682533.16002     3 -0.065  0.017  9.795     4  0.007 -0.001 -0.003    5   \n",
       "2  682533.17007     3 -0.083  0.018  9.728     4  0.009  0.010 -0.002    5   \n",
       "3  682533.18001     3 -0.072  0.018  9.759     4  0.008  0.010 -0.003    5   \n",
       "4  682533.19002     3 -0.069  0.026  9.755     4  0.006  0.005  0.001    5   \n",
       "\n",
       "   ...     my     mz       dt        vx        px        vy        py  \\\n",
       "0  ... -16.46  15.18  0.00000  0.000000  0.000000  0.000000  0.000000   \n",
       "1  ... -16.80  15.10  0.01000 -0.001003  0.000000  0.000188  0.000000   \n",
       "2  ... -16.80  15.10  0.01005 -0.001967 -0.000015  0.000306  0.000002   \n",
       "3  ... -16.60  14.00  0.00994 -0.002954 -0.000039  0.000428  0.000006   \n",
       "4  ... -16.60  14.00  0.01001 -0.003878 -0.000074  0.000590  0.000011   \n",
       "\n",
       "         vz        pz     angle  \n",
       "0  0.000000  0.000000  0.000000  \n",
       "1  0.096795  0.000000 -0.002997  \n",
       "2  0.194456  0.001464 -0.005146  \n",
       "3  0.290869  0.003876 -0.007271  \n",
       "4  0.388096  0.007274 -0.008551  \n",
       "\n",
       "[5 rows x 21 columns]"
      ]
     },
     "execution_count": 109,
     "metadata": {},
     "output_type": "execute_result"
    }
   ],
   "source": [
    "data.head()"
   ]
  },
  {
   "cell_type": "code",
   "execution_count": 110,
   "metadata": {},
   "outputs": [
    {
     "data": {
      "text/plain": [
       "[<matplotlib.lines.Line2D at 0x7eff04d280f0>]"
      ]
     },
     "execution_count": 110,
     "metadata": {},
     "output_type": "execute_result"
    },
    {
     "data": {
      "image/png": "[encoded data removed]",
      "text/plain": [
       "<Figure size 432x288 with 1 Axes>"
      ]
     },
     "metadata": {
      "needs_background": "light"
     },
     "output_type": "display_data"
    }
   ],
   "source": [
    "fig = plt.figure()\n",
    "#ax = Axes3D(fig)\n",
    "plt.plot(data.px, data.py)"
   ]
  },
  {
   "cell_type": "code",
   "execution_count": 111,
   "metadata": {},
   "outputs": [],
   "source": [
    "###################################################################################################\n",
    "#                                                                                                 #\n",
    "#                                                                                                 #\n",
    "#      X velocity with gyro correction                                                            #\n",
    "#                                                                                                 #\n",
    "###################################################################################################"
   ]
  },
  {
   "cell_type": "code",
   "execution_count": 112,
   "metadata": {},
   "outputs": [],
   "source": [
    "ax = np.array(data.ax)\n",
    "ay = np.array(data.ay)\n",
    "dt = np.array(data.timestamp)\n",
    "angle = np.array(data.angle)\n"
   ]
  },
  {
   "cell_type": "code",
   "execution_count": 113,
   "metadata": {},
   "outputs": [],
   "source": [
    "vx = [0]\n",
    "for i in range(1, ax.shape[0]):\n",
    "    \n",
    "    acx = ax[i]*math.cos(-angle[i]) - ay[i]*math.sin(-angle[i])\n",
    "    v = vx[i-1] + acx*(dt[i] - dt[i-1])\n",
    "    vx.append(v)\n",
    "vx = np.array(vx)\n",
    "\n"
   ]
  },
  {
   "cell_type": "code",
   "execution_count": 114,
   "metadata": {},
   "outputs": [],
   "source": [
    "###################################################################################################\n",
    "#                                                                                                 #\n",
    "#                                                                                                 #\n",
    "#      Y velocity with gyro correction                                                            #\n",
    "#                                                                                                 #\n",
    "###################################################################################################    "
   ]
  },
  {
   "cell_type": "code",
   "execution_count": 115,
   "metadata": {},
   "outputs": [],
   "source": [
    "vy = [0]\n",
    "for i in range(1, ay.shape[0]):\n",
    "    \n",
    "    acy = ax[i]*math.sin(-angle[i]) + ay[i]*math.cos(-angle[i])\n",
    "    v = vy[i-1] + acy*(dt[i] - dt[i-1])\n",
    "    vy.append(v)\n",
    "vy = np.array(vy)"
   ]
  },
  {
   "cell_type": "code",
   "execution_count": 116,
   "metadata": {},
   "outputs": [],
   "source": [
    "posx = second_integrate(dt, vx)\n",
    "posy = second_integrate(dt, vy)"
   ]
  },
  {
   "cell_type": "code",
   "execution_count": 117,
   "metadata": {},
   "outputs": [
    {
     "data": {
      "text/plain": [
       "[<matplotlib.lines.Line2D at 0x7eff06faed30>]"
      ]
     },
     "execution_count": 117,
     "metadata": {},
     "output_type": "execute_result"
    },
    {
     "data": {
      "image/png": "[encoded data removed]",
      "text/plain": [
       "<Figure size 432x288 with 1 Axes>"
      ]
     },
     "metadata": {
      "needs_background": "light"
     },
     "output_type": "display_data"
    }
   ],
   "source": [
    "plt.plot(posx, posy)"
   ]
  },
  {
   "cell_type": "code",
   "execution_count": 118,
   "metadata": {},
   "outputs": [],
   "source": [
    "abs_data = pd.DataFrame(columns='dt ax ay az'.split(' '))"
   ]
  },
  {
   "cell_type": "code",
   "execution_count": 119,
   "metadata": {},
   "outputs": [
    {
     "data": {
      "text/html": [
       "<div>\n",
       "<style scoped>\n",
       "    .dataframe tbody tr th:only-of-type {\n",
       "        vertical-align: middle;\n",
       "    }\n",
       "\n",
       "    .dataframe tbody tr th {\n",
       "        vertical-align: top;\n",
       "    }\n",
       "\n",
       "    .dataframe thead th {\n",
       "        text-align: right;\n",
       "    }\n",
       "</style>\n",
       "<table border=\"1\" class=\"dataframe\">\n",
       "  <thead>\n",
       "    <tr style=\"text-align: right;\">\n",
       "      <th></th>\n",
       "      <th>dt</th>\n",
       "      <th>ax</th>\n",
       "      <th>ay</th>\n",
       "      <th>az</th>\n",
       "    </tr>\n",
       "  </thead>\n",
       "  <tbody>\n",
       "  </tbody>\n",
       "</table>\n",
       "</div>"
      ],
      "text/plain": [
       "Empty DataFrame\n",
       "Columns: [dt, ax, ay, az]\n",
       "Index: []"
      ]
     },
     "execution_count": 119,
     "metadata": {},
     "output_type": "execute_result"
    }
   ],
   "source": [
    "abs_data.head()"
   ]
  },
  {
   "cell_type": "code",
   "execution_count": 120,
   "metadata": {},
   "outputs": [],
   "source": [
    "acc_vector = np.array(([ [0,0] ]))"
   ]
  },
  {
   "cell_type": "code",
   "execution_count": 121,
   "metadata": {},
   "outputs": [],
   "source": [
    "for i in range(0, ax.shape[0]):\n",
    "    #print(ax[i], ay[i])\n",
    "    vector = np.array( ([ax[i]] , [ay[i]] ))\n",
    "    rotate_matrix = np.array (( [math.cos(-angle[i]), -math.sin(-angle[i])],\n",
    "                                [math.sin(-angle[i]),  math.cos(-angle[i])] ))\n",
    "    aceleration = rotate_matrix @ vector\n",
    "    acc_vector = np.concatenate((acc_vector, aceleration.T), axis=0)"
   ]
  },
  {
   "cell_type": "code",
   "execution_count": 122,
   "metadata": {},
   "outputs": [],
   "source": [
    "abs_data.ax = acc_vector[1:,0]\n",
    "abs_data.ay = acc_vector[1:,1]\n",
    "abs_data.dt = dt"
   ]
  },
  {
   "cell_type": "code",
   "execution_count": 123,
   "metadata": {},
   "outputs": [
    {
     "data": {
      "text/html": [
       "<div>\n",
       "<style scoped>\n",
       "    .dataframe tbody tr th:only-of-type {\n",
       "        vertical-align: middle;\n",
       "    }\n",
       "\n",
       "    .dataframe tbody tr th {\n",
       "        vertical-align: top;\n",
       "    }\n",
       "\n",
       "    .dataframe thead th {\n",
       "        text-align: right;\n",
       "    }\n",
       "</style>\n",
       "<table border=\"1\" class=\"dataframe\">\n",
       "  <thead>\n",
       "    <tr style=\"text-align: right;\">\n",
       "      <th></th>\n",
       "      <th>dt</th>\n",
       "      <th>ax</th>\n",
       "      <th>ay</th>\n",
       "      <th>az</th>\n",
       "    </tr>\n",
       "  </thead>\n",
       "  <tbody>\n",
       "    <tr>\n",
       "      <th>0</th>\n",
       "      <td>682533.15002</td>\n",
       "      <td>-0.092000</td>\n",
       "      <td>0.032000</td>\n",
       "      <td>NaN</td>\n",
       "    </tr>\n",
       "    <tr>\n",
       "      <th>1</th>\n",
       "      <td>682533.16002</td>\n",
       "      <td>-0.065051</td>\n",
       "      <td>0.016805</td>\n",
       "      <td>NaN</td>\n",
       "    </tr>\n",
       "    <tr>\n",
       "      <th>2</th>\n",
       "      <td>682533.17007</td>\n",
       "      <td>-0.083092</td>\n",
       "      <td>0.017573</td>\n",
       "      <td>NaN</td>\n",
       "    </tr>\n",
       "    <tr>\n",
       "      <th>3</th>\n",
       "      <td>682533.18001</td>\n",
       "      <td>-0.072129</td>\n",
       "      <td>0.017476</td>\n",
       "      <td>NaN</td>\n",
       "    </tr>\n",
       "    <tr>\n",
       "      <th>4</th>\n",
       "      <td>682533.19002</td>\n",
       "      <td>-0.069220</td>\n",
       "      <td>0.025409</td>\n",
       "      <td>NaN</td>\n",
       "    </tr>\n",
       "  </tbody>\n",
       "</table>\n",
       "</div>"
      ],
      "text/plain": [
       "             dt        ax        ay   az\n",
       "0  682533.15002 -0.092000  0.032000  NaN\n",
       "1  682533.16002 -0.065051  0.016805  NaN\n",
       "2  682533.17007 -0.083092  0.017573  NaN\n",
       "3  682533.18001 -0.072129  0.017476  NaN\n",
       "4  682533.19002 -0.069220  0.025409  NaN"
      ]
     },
     "execution_count": 123,
     "metadata": {},
     "output_type": "execute_result"
    }
   ],
   "source": [
    "abs_data.head()"
   ]
  },
  {
   "cell_type": "code",
   "execution_count": 124,
   "metadata": {},
   "outputs": [],
   "source": [
    "acc = 'ax ay az'.split(' ')\n",
    "vel = 'vx vy vz'.split(' ')\n",
    "pos = 'px py pz'.split(' ')\n",
    "\n",
    "for i in range(0,3):\n",
    "    \n",
    "    abs_data[vel[i]] = first_integrate(dt, np.array(abs_data[acc[i]]), error_mean[acc[i]])\n",
    "    abs_data[pos[i]] = second_integrate(dt, np.array(abs_data[vel[i]]))"
   ]
  },
  {
   "cell_type": "code",
   "execution_count": 125,
   "metadata": {},
   "outputs": [
    {
     "data": {
      "text/html": [
       "<div>\n",
       "<style scoped>\n",
       "    .dataframe tbody tr th:only-of-type {\n",
       "        vertical-align: middle;\n",
       "    }\n",
       "\n",
       "    .dataframe tbody tr th {\n",
       "        vertical-align: top;\n",
       "    }\n",
       "\n",
       "    .dataframe thead th {\n",
       "        text-align: right;\n",
       "    }\n",
       "</style>\n",
       "<table border=\"1\" class=\"dataframe\">\n",
       "  <thead>\n",
       "    <tr style=\"text-align: right;\">\n",
       "      <th></th>\n",
       "      <th>dt</th>\n",
       "      <th>ax</th>\n",
       "      <th>ay</th>\n",
       "      <th>az</th>\n",
       "      <th>vx</th>\n",
       "      <th>px</th>\n",
       "      <th>vy</th>\n",
       "      <th>py</th>\n",
       "      <th>vz</th>\n",
       "      <th>pz</th>\n",
       "    </tr>\n",
       "  </thead>\n",
       "  <tbody>\n",
       "    <tr>\n",
       "      <th>0</th>\n",
       "      <td>682533.15002</td>\n",
       "      <td>-0.092000</td>\n",
       "      <td>0.032000</td>\n",
       "      <td>NaN</td>\n",
       "      <td>0.000000</td>\n",
       "      <td>0.000000</td>\n",
       "      <td>0.000000</td>\n",
       "      <td>0.000000</td>\n",
       "      <td>0.0</td>\n",
       "      <td>0.0</td>\n",
       "    </tr>\n",
       "    <tr>\n",
       "      <th>1</th>\n",
       "      <td>682533.16002</td>\n",
       "      <td>-0.065051</td>\n",
       "      <td>0.016805</td>\n",
       "      <td>NaN</td>\n",
       "      <td>-0.001004</td>\n",
       "      <td>0.000000</td>\n",
       "      <td>0.000187</td>\n",
       "      <td>0.000000</td>\n",
       "      <td>NaN</td>\n",
       "      <td>0.0</td>\n",
       "    </tr>\n",
       "    <tr>\n",
       "      <th>2</th>\n",
       "      <td>682533.17007</td>\n",
       "      <td>-0.083092</td>\n",
       "      <td>0.017573</td>\n",
       "      <td>NaN</td>\n",
       "      <td>-0.001968</td>\n",
       "      <td>-0.000015</td>\n",
       "      <td>0.000302</td>\n",
       "      <td>0.000002</td>\n",
       "      <td>NaN</td>\n",
       "      <td>NaN</td>\n",
       "    </tr>\n",
       "    <tr>\n",
       "      <th>3</th>\n",
       "      <td>682533.18001</td>\n",
       "      <td>-0.072129</td>\n",
       "      <td>0.017476</td>\n",
       "      <td>NaN</td>\n",
       "      <td>-0.002956</td>\n",
       "      <td>-0.000039</td>\n",
       "      <td>0.000419</td>\n",
       "      <td>0.000006</td>\n",
       "      <td>NaN</td>\n",
       "      <td>NaN</td>\n",
       "    </tr>\n",
       "    <tr>\n",
       "      <th>4</th>\n",
       "      <td>682533.19002</td>\n",
       "      <td>-0.069220</td>\n",
       "      <td>0.025409</td>\n",
       "      <td>NaN</td>\n",
       "      <td>-0.003882</td>\n",
       "      <td>-0.000074</td>\n",
       "      <td>0.000576</td>\n",
       "      <td>0.000011</td>\n",
       "      <td>NaN</td>\n",
       "      <td>NaN</td>\n",
       "    </tr>\n",
       "  </tbody>\n",
       "</table>\n",
       "</div>"
      ],
      "text/plain": [
       "             dt        ax        ay   az        vx        px        vy  \\\n",
       "0  682533.15002 -0.092000  0.032000  NaN  0.000000  0.000000  0.000000   \n",
       "1  682533.16002 -0.065051  0.016805  NaN -0.001004  0.000000  0.000187   \n",
       "2  682533.17007 -0.083092  0.017573  NaN -0.001968 -0.000015  0.000302   \n",
       "3  682533.18001 -0.072129  0.017476  NaN -0.002956 -0.000039  0.000419   \n",
       "4  682533.19002 -0.069220  0.025409  NaN -0.003882 -0.000074  0.000576   \n",
       "\n",
       "         py   vz   pz  \n",
       "0  0.000000  0.0  0.0  \n",
       "1  0.000000  NaN  0.0  \n",
       "2  0.000002  NaN  NaN  \n",
       "3  0.000006  NaN  NaN  \n",
       "4  0.000011  NaN  NaN  "
      ]
     },
     "execution_count": 125,
     "metadata": {},
     "output_type": "execute_result"
    }
   ],
   "source": [
    "abs_data.head()"
   ]
  },
  {
   "cell_type": "code",
   "execution_count": 126,
   "metadata": {},
   "outputs": [
    {
     "data": {
      "text/plain": [
       "[<matplotlib.lines.Line2D at 0x7eff03e8c198>]"
      ]
     },
     "execution_count": 126,
     "metadata": {},
     "output_type": "execute_result"
    },
    {
     "data": {
      "image/png": "[encoded data removed]",
      "text/plain": [
       "<Figure size 432x288 with 1 Axes>"
      ]
     },
     "metadata": {
      "needs_background": "light"
     },
     "output_type": "display_data"
    }
   ],
   "source": [
    "plt.plot(abs_data.px, abs_data.py)"
   ]
  },
  {
   "cell_type": "code",
   "execution_count": null,
   "metadata": {},
   "outputs": [],
   "source": []
  },
  {
   "cell_type": "code",
   "execution_count": null,
   "metadata": {},
   "outputs": [],
   "source": []
  },
  {
   "cell_type": "code",
   "execution_count": null,
   "metadata": {},
   "outputs": [],
   "source": []
  }
 ],
 "metadata": {
  "kernelspec": {
   "display_name": "Python 3",
   "language": "python",
   "name": "python3"
  },
  "language_info": {
   "codemirror_mode": {
    "name": "ipython",
    "version": 3
   },
   "file_extension": ".py",
   "mimetype": "text/x-python",
   "name": "python",
   "nbconvert_exporter": "python",
   "pygments_lexer": "ipython3",
   "version": "3.5.2"
  }
 },
 "nbformat": 4,
 "nbformat_minor": 2
}
